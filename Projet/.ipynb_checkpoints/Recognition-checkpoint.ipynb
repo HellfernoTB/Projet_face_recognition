{
 "cells": [
  {
   "cell_type": "code",
   "execution_count": 1,
   "id": "8da6086f",
   "metadata": {},
   "outputs": [],
   "source": [
    "import numpy as np\n",
    "import matplotlib.pyplot as plt\n",
    "from IPython import display\n",
    "import cv2\n",
    "import dlib\n",
    "import os\n",
    "import keras\n",
    "import sklearn"
   ]
  },
  {
   "cell_type": "code",
   "execution_count": 2,
   "id": "98b01b48",
   "metadata": {},
   "outputs": [],
   "source": [
    "import tensorflow as tf\n",
    "from os import listdir\n",
    "from os.path import isfile, join"
   ]
  },
  {
   "cell_type": "code",
   "execution_count": 3,
   "id": "866b3ba5",
   "metadata": {},
   "outputs": [],
   "source": [
    "pose68 = dlib.shape_predictor('models/shape_predictor_68_face_landmarks.dat')\n",
    "pose05 = dlib.shape_predictor('models/shape_predictor_5_face_landmarks.dat')\n",
    "\n",
    "def face_landmarks(face, model=\"large\"):\n",
    "    \n",
    "    if model == \"large\":\n",
    "        predictor = pose68\n",
    "    elif model == \"small\":\n",
    "        predictor = pose05\n",
    "    \n",
    "    if not isinstance(face, list):\n",
    "        rect = dlib.rectangle(0,0,face.shape[1],face.shape[0])\n",
    "        return predictor(face, rect)\n",
    "    else:\n",
    "        rect = dlib.rectangle(0,0,face[0].shape[1],face[0].shape[0])\n",
    "        return [predictor(f,rect) for f in face]"
   ]
  },
  {
   "cell_type": "code",
   "execution_count": 4,
   "id": "45529a4a",
   "metadata": {},
   "outputs": [],
   "source": [
    "hog_detector = dlib.get_frontal_face_detector()\n",
    "cnn_detector = dlib.cnn_face_detection_model_v1('models/mmod_human_face_detector.dat')\n",
    "\n",
    "def face_locations(image, model=\"hog\"):\n",
    "    \n",
    "    if model == \"hog\":\n",
    "        detector = hog_detector\n",
    "        cst = 0\n",
    "    elif model == \"cnn\":\n",
    "        detector = cnn_detector\n",
    "        cst = 10\n",
    "            \n",
    "    matches = detector(image,1)\n",
    "    rects   = []\n",
    "    \n",
    "    for r in matches:\n",
    "        if model == \"cnn\":\n",
    "            r = r.rect\n",
    "        x = max(r.left(), 0)\n",
    "        y = max(r.top(), 0)\n",
    "        w = min(r.right(), image.shape[1]) - x + cst\n",
    "        h = min(r.bottom(), image.shape[0]) - y + cst\n",
    "        rects.append((x,y,w,h))\n",
    "        \n",
    "    return rects"
   ]
  },
  {
   "cell_type": "code",
   "execution_count": 7,
   "id": "0353868f",
   "metadata": {},
   "outputs": [],
   "source": [
    "faceSet = []\n",
    "faceSetName = []\n",
    "pathF = \"./mergeFace/\"\n",
    "imagePaths = [f for f in listdir(pathF) if isfile(join(pathF, f))]\n",
    "\n",
    "\n",
    "for img in imagePaths:\n",
    "    \n",
    "    im = cv2.imread(pathF+img)\n",
    "    gray = cv2.cvtColor(im, cv2.COLOR_BGR2GRAY)\n",
    "\n",
    "    rect = dlib.rectangle(0,0,128,128)\n",
    "    landmarks = pose68(gray, rect)\n",
    "    faceSet.append(dlib_Point_to_Numpy_Array(landmarks))\n",
    "    faceSetName.append(os.path.splitext(img)[0])"
   ]
  },
  {
   "cell_type": "code",
   "execution_count": 6,
   "id": "5ee2cda7",
   "metadata": {},
   "outputs": [],
   "source": [
    "def dlib_Point_to_Numpy_Array(dlibCoord):\n",
    "\n",
    "    numpyCoord = np.zeros((68, 2))\n",
    "\n",
    "    for i in range(0, 68):\n",
    "        numpyCoord[i] = (dlibCoord.part(i).x, dlibCoord.part(i).y)\n",
    "        \n",
    "    return numpyCoord"
   ]
  },
  {
   "cell_type": "code",
   "execution_count": 9,
   "id": "f831e2ef",
   "metadata": {},
   "outputs": [
    {
     "name": "stdout",
     "output_type": "stream",
     "text": [
      "Thomas_BLUSSON\n"
     ]
    },
    {
     "data": {
      "image/png": "[encoded data removed]",
      "text/plain": [
       "<Figure size 640x480 with 1 Axes>"
      ]
     },
     "metadata": {},
     "output_type": "display_data"
    }
   ],
   "source": [
    "\n",
    "plt.plot(np.transpose(faceSet[10])[0],np.transpose(faceSet[10])[1], 'o', color='black')\n",
    "print(faceSetName[10])"
   ]
  },
  {
   "cell_type": "code",
   "execution_count": 137,
   "id": "a530145a",
   "metadata": {},
   "outputs": [],
   "source": [
    "def image_comp(img1):\n",
    "    img1 = dlib_Point_to_Numpy_Array(img1)\n",
    "    value = []\n",
    "    for img2 in faceSet :\n",
    "        value.append((np.transpose(img1)-(np.transpose(img2).mean())))\n",
    "    return faceSetName[np.argmin(value)]"
   ]
  },
  {
   "cell_type": "code",
   "execution_count": 138,
   "id": "f297ae56",
   "metadata": {},
   "outputs": [],
   "source": [
    "def process_frame(image, mode=\"fast\"):\n",
    "    \n",
    "    # face detection\n",
    "    gray = cv2.cvtColor(image, cv2.COLOR_BGR2GRAY)\n",
    "    if mode == \"fast\":\n",
    "        matches = hog_detector(gray,1)\n",
    "    else:\n",
    "        matches = cnn_detector(gray,1)\n",
    "        matches = [m.rect for m in matches]\n",
    "        \n",
    "    for rect in matches:\n",
    "  \n",
    "        # face landmarks\n",
    "        landmarks = pose68(gray, rect)\n",
    "        #print(landmarks.parts())\n",
    "        # face encoding\n",
    "        encoding = cnn_encoder.compute_face_descriptor(image, landmarks)\n",
    "        \n",
    "        # face classification\n",
    "        #image_comp(landmarks.parts())\n",
    "        label = image_comp(landmarks)\n",
    "        #pres = pose68(image[rect.top():rect.bottom(),rect.left():rect.right()],)\n",
    "        #print(pres)\n",
    "        # draw box\n",
    "        cv2.rectangle(image, (rect.left(), rect.top()), (rect.right(), rect.bottom()), (0, 255, 0), 2)\n",
    "        y = rect.top() - 15 if rect.top() - 15 > 15 else rect.bottom() + 25\n",
    "        cv2.putText(image, label, (rect.left(), y), cv2.FONT_HERSHEY_SIMPLEX, 0.75, (0, 255, 0), 2)\n",
    "        \n",
    "    return image"
   ]
  },
  {
   "cell_type": "code",
   "execution_count": 107,
   "id": "2ed7fb80",
   "metadata": {},
   "outputs": [],
   "source": [
    "def process_movie(video_name, mode=\"fast\"):\n",
    "    \n",
    "    video  = cv2.VideoCapture(video_name)\n",
    "    \n",
    "    try:\n",
    "        \n",
    "        while True:\n",
    "\n",
    "            # Grab a single frame of video\n",
    "            ret, frame = video.read()\n",
    "            \n",
    "            # Resize frame of video for faster processing\n",
    "            frame = cv2.resize(frame, (0, 0), fx=0.5, fy=0.5)\n",
    "\n",
    "            # Quit when the input video file ends or key \"Q\" is pressed\n",
    "            key = cv2.waitKey(1) & 0xFF\n",
    "            if not ret or key == ord(\"q\"):\n",
    "                break\n",
    "\n",
    "            # Process frame\n",
    "            image = process_frame(frame, mode)\n",
    "\n",
    "            # Display the resulting image\n",
    "            cv2.imshow('Video', image)\n",
    "    \n",
    "    finally:\n",
    "        video.release()\n",
    "        cv2.destroyAllWindows()\n",
    "        print(\"Video released\")"
   ]
  },
  {
   "cell_type": "code",
   "execution_count": null,
   "id": "6a16792a",
   "metadata": {},
   "outputs": [],
   "source": [
    "process_movie(0)"
   ]
  },
  {
   "cell_type": "code",
   "execution_count": null,
   "id": "bee7a063",
   "metadata": {},
   "outputs": [],
   "source": [
    "process_movie(0)\n",
    "\n",
    "tf.image.ssim(im1, im2, max_val=1.0)"
   ]
  }
 ],
 "metadata": {
  "kernelspec": {
   "display_name": "Python 3 (ipykernel)",
   "language": "python",
   "name": "python3"
  },
  "language_info": {
   "codemirror_mode": {
    "name": "ipython",
    "version": 3
   },
   "file_extension": ".py",
   "mimetype": "text/x-python",
   "name": "python",
   "nbconvert_exporter": "python",
   "pygments_lexer": "ipython3",
   "version": "3.10.11"
  }
 },
 "nbformat": 4,
 "nbformat_minor": 5
}
